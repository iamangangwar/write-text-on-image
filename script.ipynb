{
 "cells": [
  {
   "cell_type": "code",
   "execution_count": 1,
   "metadata": {},
   "outputs": [],
   "source": [
    "from PIL import Image, ImageDraw\n",
    "from PIL import ImageFont"
   ]
  },
  {
   "cell_type": "code",
   "execution_count": 2,
   "metadata": {},
   "outputs": [],
   "source": [
    "def get_text_dimensions(text_string, font):\n",
    "    # https://stackoverflow.com/a/46220683/9263761\n",
    "    ascent, descent = font.getmetrics()\n",
    "\n",
    "    text_width = font.getmask(text_string).getbbox()[2]\n",
    "    text_height = font.getmask(text_string).getbbox()[3] + descent\n",
    "\n",
    "    return (text_width, text_height)"
   ]
  },
  {
   "cell_type": "code",
   "execution_count": 3,
   "metadata": {},
   "outputs": [],
   "source": [
    "def write_text(name: str):\n",
    "    # certificate_template.png is the template of certificate (without name)\n",
    "    img = Image.open('certificate_template.png')\n",
    "    i = ImageDraw.Draw(img)\n",
    "    # AbhayaLibre-ExtraBold.ttf is the TrueType Font file for the font to be used to write names\n",
    "    # 87 is the font size of name\n",
    "    font = ImageFont.truetype('AbhayaLibre-ExtraBold.ttf', 87)\n",
    "    w, h = get_text_dimensions(name, font)\n",
    "    W, H = img.size\n",
    "    # (W-w)/2 and (H-h)/2 sets the text at the center of the image, you can move the text wrt that\n",
    "    # text field if for the input name\n",
    "    # font field requires the font you want to use to write name\n",
    "    # fill field requires the color in which the name is written\n",
    "    i.text(((W-w)/2, (H-h)/2 + 80), text=name, font=font, fill=(32,30,36))\n",
    "    return img"
   ]
  },
  {
   "cell_type": "code",
   "execution_count": 13,
   "metadata": {},
   "outputs": [],
   "source": [
    "import pandas as pd\n",
    "# Data is stored in data.csv file in the same directory as the script\n",
    "data = pd.read_csv('data.csv')\n",
    "names = list(data[\"Name\"])\n",
    "email = list(data['Email Address'])\n",
    "# Creating a dictionary containing email addresses: name as key: value\n",
    "dict = {}\n",
    "for i in range(len(email)):\n",
    "    dict[email[i]] = names[i]"
   ]
  },
  {
   "cell_type": "code",
   "execution_count": 17,
   "metadata": {},
   "outputs": [],
   "source": [
    "for email in dict.keys():\n",
    "    name = dict[email].title()\n",
    "    image = write_text(name)\n",
    "    # Segregating the certificates of Diu and Gandhinagar students\n",
    "    # Emails of Diu students are of the form ...@diu.iiitvadodara.ac.in\n",
    "    # Emails of Gandhinagar students are of the form ...@iiitvadodara.ac.in\n",
    "    if 'diu' in email:\n",
    "        image.save(\"certificates_icd/{}.png\".format(name))\n",
    "    else:\n",
    "        image.save(\"certificates_iiitv/{}.png\".format(name))"
   ]
  }
 ],
 "metadata": {
  "kernelspec": {
   "display_name": "Python 3.10.5 ('ml')",
   "language": "python",
   "name": "python3"
  },
  "language_info": {
   "codemirror_mode": {
    "name": "ipython",
    "version": 3
   },
   "file_extension": ".py",
   "mimetype": "text/x-python",
   "name": "python",
   "nbconvert_exporter": "python",
   "pygments_lexer": "ipython3",
   "version": "3.10.5"
  },
  "orig_nbformat": 4,
  "vscode": {
   "interpreter": {
    "hash": "44e309e002bfd5c3f244c5548434d980cd9e4d8a49e26ce655ebbe11f65b130d"
   }
  }
 },
 "nbformat": 4,
 "nbformat_minor": 2
}
